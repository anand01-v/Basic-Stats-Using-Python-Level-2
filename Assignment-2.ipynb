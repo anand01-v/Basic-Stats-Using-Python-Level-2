{
 "cells": [
  {
   "cell_type": "markdown",
   "id": "b419567c",
   "metadata": {},
   "source": [
    "### SET-1"
   ]
  },
  {
   "attachments": {
    "image.png": {
     "image/png": "[encoded data removed]"
    }
   },
   "cell_type": "markdown",
   "id": "dff199eb",
   "metadata": {},
   "source": [
    "##### Question 1\n",
    "- \tLook at the data given below. Plot the data, find the outliers and find out  μ,σ,σ^2![image.png](attachment:image.png)\n"
   ]
  },
  {
   "cell_type": "code",
   "execution_count": 1,
   "id": "4cb9886c",
   "metadata": {
    "ExecuteTime": {
     "end_time": "2023-03-27T18:33:52.200720Z",
     "start_time": "2023-03-27T18:33:52.170847Z"
    }
   },
   "outputs": [],
   "source": [
    "import warnings\n",
    "warnings.filterwarnings(\"ignore\")"
   ]
  },
  {
   "cell_type": "code",
   "execution_count": 2,
   "id": "def2cf95",
   "metadata": {
    "ExecuteTime": {
     "end_time": "2023-03-27T18:33:55.014436Z",
     "start_time": "2023-03-27T18:33:52.200720Z"
    },
    "scrolled": false
   },
   "outputs": [
    {
     "name": "stdout",
     "output_type": "stream",
     "text": [
      "Mean of the given data is \n",
      " Measure X    0.332713\n",
      "dtype: float64\n",
      "\n",
      "Standard Deviation of the given data is \n",
      " Measure X    0.169454\n",
      "dtype: float64\n",
      "\n",
      "Variance of the given data is \n",
      " Measure X    0.028715\n",
      "dtype: float64\n",
      "       Measure X\n",
      "count  15.000000\n",
      "mean    0.332713\n",
      "std     0.169454\n",
      "min     0.241400\n",
      "25%     0.254700\n",
      "50%     0.267100\n",
      "75%     0.339750\n",
      "max     0.913600\n"
     ]
    },
    {
     "data": {
      "image/png": "[encoded data removed]",
      "text/plain": [
       "<Figure size 432x288 with 1 Axes>"
      ]
     },
     "metadata": {
      "needs_background": "light"
     },
     "output_type": "display_data"
    }
   ],
   "source": [
    "import pandas as pd,matplotlib.pyplot as plt\n",
    "Q1=pd.read_excel(\"Q1.xlsx\")\n",
    "print(\"Mean of the given data is \\n\",Q1.mean())\n",
    "print(\"\\nStandard Deviation of the given data is \\n\",Q1.std())\n",
    "print(\"\\nVariance of the given data is \\n\",Q1.var())\n",
    "print(Q1.describe())\n",
    "#Plotting the data and finding the outliers of the data\n",
    "plt.boxplot(Q1['Measure X'])\n",
    "plt.title(\"Boxplot of Measure X\")\n",
    "plt.xlabel(\"Measure X\")\n",
    "plt.ylabel(\"Values\")\n",
    "plt.show()"
   ]
  },
  {
   "cell_type": "markdown",
   "id": "a5b1c10d",
   "metadata": {},
   "source": [
    "### Set - 2"
   ]
  },
  {
   "cell_type": "markdown",
   "id": "9261b158",
   "metadata": {},
   "source": [
    "##### Question 1\n",
    "- The time required for servicing transmissions is normally distributed with μ=45 minutes and σ=8 minutes. The service manager plans to have work begin on the transmission of a customer’s car 10 minutes after the car is dropped off and the customer is told that the car will be ready within 1 hour from drop-off. What is the probability that the service manager cannot meet his commitment? \n",
    "\n",
    "- A.\t0.3875   \n",
    "\n",
    "- B.\t0.2676   \n",
    "\n",
    "- C.\t0.5   \n",
    "\n",
    "- D.\t0.6987 \n"
   ]
  },
  {
   "cell_type": "code",
   "execution_count": 3,
   "id": "5081d498",
   "metadata": {
    "ExecuteTime": {
     "end_time": "2023-03-27T18:33:55.540044Z",
     "start_time": "2023-03-27T18:33:55.016439Z"
    }
   },
   "outputs": [
    {
     "name": "stdout",
     "output_type": "stream",
     "text": [
      "The probability that the service manager cannot meet his commitment is \n",
      " 0.26598552904870054\n"
     ]
    }
   ],
   "source": [
    "from scipy import stats\n",
    "# The probability that the service manager cannot meet his commitment\n",
    "# x > 50\n",
    "print(\"The probability that the service manager cannot meet his commitment is \\n\",1-stats.norm.cdf(50,45,8))"
   ]
  },
  {
   "cell_type": "markdown",
   "id": "1118d52e",
   "metadata": {},
   "source": [
    "##### Question 2(A) \n",
    "    2.\tThe current age (in years) of 400 clerical employees at an insurance claims processing center is normally distributed with mean μ=38 and Standard deviation σ=6. For each statement below, please specify True/False. If false, briefly explain why.\n",
    "\n",
    "- A.\tMore employees at the processing center are older than 44 than between 38 and 44.\n"
   ]
  },
  {
   "cell_type": "code",
   "execution_count": 4,
   "id": "4bb1ca2a",
   "metadata": {
    "ExecuteTime": {
     "end_time": "2023-03-27T18:33:55.564598Z",
     "start_time": "2023-03-27T18:33:55.540615Z"
    }
   },
   "outputs": [
    {
     "name": "stdout",
     "output_type": "stream",
     "text": [
      "The probability of employees older than 44 \n",
      " 63.46210157258283\n",
      "The probability of employees between 38 and 44 \n",
      " 136.53789842741716\n"
     ]
    }
   ],
   "source": [
    "print(\"The probability of employees older than 44 \\n\",(1-stats.norm.cdf(44,38,6))*400)\n",
    "print(\"The probability of employees between 38 and 44 \\n\",(stats.norm.cdf(44,38,6) - stats.norm.cdf(38,38,6))*400)"
   ]
  },
  {
   "cell_type": "markdown",
   "id": "bf80bae9",
   "metadata": {},
   "source": [
    "##### Question 2(B)\n",
    "- A training program for employees under the age of 30 at the center would be expected to attract about 36 employees."
   ]
  },
  {
   "cell_type": "code",
   "execution_count": 5,
   "id": "2c56e5c0",
   "metadata": {
    "ExecuteTime": {
     "end_time": "2023-03-27T18:33:55.572627Z",
     "start_time": "2023-03-27T18:33:55.564598Z"
    }
   },
   "outputs": [
    {
     "name": "stdout",
     "output_type": "stream",
     "text": [
      "The expected value of employees under age of 30 is \n",
      " 36.484487890347154\n"
     ]
    }
   ],
   "source": [
    "print(\"The expected value of employees under age of 30 is \\n\",400*stats.norm.cdf(30,38,6))"
   ]
  },
  {
   "cell_type": "markdown",
   "id": "6fcf4371",
   "metadata": {},
   "source": [
    "##### Question 4\n",
    "- Let X ~ N(100, 202). Find two values, a and b, symmetric about the mean, such that the probability of the random variable taking a value between them is 0.99. \n",
    "\n",
    "    A.90.5, 105.9 \n",
    "\n",
    "    B.80.2, 119.8 \n",
    "\n",
    "    C.22, 78 \n",
    "    \n",
    "    D.48.5, 151.5 \n",
    "\n",
    "    E.90.1, 109.9\n"
   ]
  },
  {
   "cell_type": "code",
   "execution_count": 6,
   "id": "66fdfe0e",
   "metadata": {
    "ExecuteTime": {
     "end_time": "2023-03-27T18:33:55.590745Z",
     "start_time": "2023-03-27T18:33:55.572627Z"
    }
   },
   "outputs": [
    {
     "name": "stdout",
     "output_type": "stream",
     "text": [
      "Z= 2.5758293035489004\n",
      "Min value \n",
      " 48.48341392902199\n",
      "Max value \n",
      " 151.516586070978\n",
      "\n",
      "The Range of a and b is - (48.48341392902199, 151.516586070978)\n"
     ]
    }
   ],
   "source": [
    "#To find z score\n",
    "z=stats.norm.ppf(0.995)\n",
    "print(\"Z=\",z)\n",
    "#To calculate interval estimates\n",
    "print(\"Min value \\n\",(100-(20*z)))\n",
    "print(\"Max value \\n\",(100+(20*z)))\n",
    "\n",
    "            #OR\n",
    "print(\"\\nThe Range of a and b is -\",stats.norm.interval(0.99,100,20))"
   ]
  },
  {
   "cell_type": "markdown",
   "id": "a1cb4ca9",
   "metadata": {},
   "source": [
    "##### Question 5(A)\n",
    "    -Consider a company that has two different divisions. The annual profits from the two divisions are independent and have distributions Profit1 ~ N(5, 32) and Profit2 ~ N(7, 42) respectively. Both the profits are in $ Million. Answer the following questions about the total profit of the company in Rupees. Assume that  $1 = Rs. 45\n",
    "\n",
    "- A.Specify a Rupee range (centered on the mean) such that it contains 95% probability for the annual profit of the company.\n"
   ]
  },
  {
   "cell_type": "code",
   "execution_count": 7,
   "id": "e267b46b",
   "metadata": {
    "ExecuteTime": {
     "end_time": "2023-03-27T18:33:55.605260Z",
     "start_time": "2023-03-27T18:33:55.590745Z"
    },
    "scrolled": true
   },
   "outputs": [
    {
     "name": "stdout",
     "output_type": "stream",
     "text": [
      "Z= 1.959963984540054\n",
      "Min value \n",
      " 99.00810347848788\n",
      "Max value \n",
      " 980.9918965215121\n"
     ]
    }
   ],
   "source": [
    "#5(A)To find the rupees range \n",
    "Z=stats.norm.ppf(.975)\n",
    "print(\"Z=\",Z)\n",
    "#To calculate interval estimates\n",
    "#CI=Point estimate +- margin of error\n",
    "print(\"Min value \\n\",(12-(5*Z))*45)\n",
    "print(\"Max value \\n\",(12+(5*Z))*45)"
   ]
  },
  {
   "cell_type": "markdown",
   "id": "4dc49b26",
   "metadata": {},
   "source": [
    "##### Question 5(B):\n",
    "    B.Specify the 5th percentile of profit (in Rupees) for the company"
   ]
  },
  {
   "cell_type": "code",
   "execution_count": 8,
   "id": "7f4a55fe",
   "metadata": {
    "ExecuteTime": {
     "end_time": "2023-03-27T18:33:55.613541Z",
     "start_time": "2023-03-27T18:33:55.605260Z"
    }
   },
   "outputs": [
    {
     "name": "stdout",
     "output_type": "stream",
     "text": [
      "Z-score at 5th percentile : -1.6448536269514729\n",
      "5th percentile of profit in rupees: 169.90793393591858\n"
     ]
    }
   ],
   "source": [
    "# To calculate the 5th percentile of profit\n",
    "# From x = μ+Zσ since Z = (x-μ)/σ\n",
    "Z = stats.norm.ppf(0.05)\n",
    "print(\"Z-score at 5th percentile :\",Z)\n",
    "print(\"5th percentile of profit in rupees:\",(12+(Z*5))*45)"
   ]
  },
  {
   "cell_type": "markdown",
   "id": "3c168eb6",
   "metadata": {},
   "source": [
    "##### Question 5(C):\n",
    "    C.Which of the two divisions has a larger probability of making a loss in a given year?"
   ]
  },
  {
   "cell_type": "code",
   "execution_count": 9,
   "id": "f1e0f92c",
   "metadata": {
    "ExecuteTime": {
     "end_time": "2023-03-27T18:33:55.629938Z",
     "start_time": "2023-03-27T18:33:55.613541Z"
    }
   },
   "outputs": [
    {
     "name": "stdout",
     "output_type": "stream",
     "text": [
      "First division - 0.0477903522728147\n",
      "Second division - 0.040059156863817086\n"
     ]
    }
   ],
   "source": [
    "#P1(x<0) with mean = 5 and std =3\n",
    "print(\"First division -\",stats.norm.cdf(0,5,3))\n",
    "#P2(x<0) with mean = 7 and std =4\n",
    "print(\"Second division -\",stats.norm.cdf(0,7,4))"
   ]
  },
  {
   "cell_type": "markdown",
   "id": "2ebb225f",
   "metadata": {},
   "source": [
    "### Set - 3"
   ]
  },
  {
   "cell_type": "markdown",
   "id": "f79235d6",
   "metadata": {},
   "source": [
    "##### Question 5\n",
    "    In January 2005, a company that monitors Internet traffic (WebSideStory) reported that its sampling revealed that the Mozilla Firefox browser launched in 2004 had grabbed a 4.6% share of the market.\n",
    "    \n",
    "    If the sample were based on 2,000 users, could Microsoft conclude that Mozilla has a less than 5% share of the market?\n"
   ]
  },
  {
   "cell_type": "code",
   "execution_count": 10,
   "id": "543245fd",
   "metadata": {
    "ExecuteTime": {
     "end_time": "2023-03-27T18:33:55.640871Z",
     "start_time": "2023-03-27T18:33:55.630941Z"
    }
   },
   "outputs": [
    {
     "name": "stdout",
     "output_type": "stream",
     "text": [
      "Z value is : -0.820782681668124\n",
      "P value is : 0.20588503245107104\n"
     ]
    }
   ],
   "source": [
    "import numpy as np\n",
    "from scipy import stats\n",
    "#for z value Z = (x-μ)/σ\n",
    "z_value = (0.046-0.05)/(np.sqrt(0.05*(1-0.05)/2000))\n",
    "print(\"Z value is :\",z_value)\n",
    "print(\"P value is :\",1-stats.norm.cdf(abs(z_value)))"
   ]
  },
  {
   "cell_type": "markdown",
   "id": "0d3c6140",
   "metadata": {},
   "source": [
    "##### Question 8\n",
    "    How many randomly selected employers (minimum number) must we contact in order to guarantee a margin of error of no more than 4% (at 95% confidence)?\n",
    "\n",
    "    A.600\n",
    "\n",
    "    B.400\n",
    "    \n",
    "    C.550\n",
    "    \n",
    "    D.1000\n",
    "\n"
   ]
  },
  {
   "cell_type": "code",
   "execution_count": 11,
   "id": "b11e6991",
   "metadata": {
    "ExecuteTime": {
     "end_time": "2023-03-27T18:33:55.654560Z",
     "start_time": "2023-03-27T18:33:55.640871Z"
    }
   },
   "outputs": [
    {
     "name": "stdout",
     "output_type": "stream",
     "text": [
      "Z score value is: 1.96\n",
      "No. of employers, n is: 600.25\n"
     ]
    }
   ],
   "source": [
    "# To know the sample size \n",
    "z_score=np.round(stats.norm.ppf(0.975),2)\n",
    "print(\"Z score value is:\",z_score)\n",
    "# ME = √(Sample proportion(1-Sample proportion)/sample size)*Z score\n",
    "n=((z_score/0.04)**2)*(0.5*0.5)\n",
    "print(\"No. of employers, n is:\",n)"
   ]
  },
  {
   "cell_type": "markdown",
   "id": "57d7a7b5",
   "metadata": {},
   "source": [
    "##### Question 9\n",
    "    Suppose we want the above margin of error to be based on a 98% confidence level. What sample size (minimum) must we now use?\n",
    "\n",
    "    A.1000\n",
    "\n",
    "    B.757\n",
    "    \n",
    "    C.848\n",
    "    \n",
    "    D.543\n"
   ]
  },
  {
   "cell_type": "code",
   "execution_count": 12,
   "id": "96c9aea2",
   "metadata": {
    "ExecuteTime": {
     "end_time": "2023-03-27T18:33:55.662842Z",
     "start_time": "2023-03-27T18:33:55.654560Z"
    },
    "scrolled": true
   },
   "outputs": [
    {
     "name": "stdout",
     "output_type": "stream",
     "text": [
      "Z score value is: 2.33\n",
      "No. of employers, n is: 848.265625\n"
     ]
    }
   ],
   "source": [
    "# To know the sample size \n",
    "z_score=np.round(stats.norm.ppf(0.99),2)\n",
    "print(\"Z score value is:\",z_score)\n",
    "# ME = √(Sample proportion(1-Sample proportion)/sample size)*Z score\n",
    "n=((z_score/0.04)**2)*(0.5*0.5)\n",
    "print(\"No. of employers, n is:\",n)"
   ]
  },
  {
   "cell_type": "markdown",
   "id": "d3347967",
   "metadata": {},
   "source": [
    "### Set - 4"
   ]
  },
  {
   "cell_type": "markdown",
   "id": "82569eab",
   "metadata": {},
   "source": [
    "##### Question 3\n",
    "    Auditors at a small community bank randomly sample 100 withdrawal transactions made during the week at an ATM machine located near the bank’s main branch. Over the past 2 years, the average withdrawal amount has been $50 with a standard deviation of $40. Since audit investigations are typically expensive, the auditors decide to not initiate further investigations if the mean transaction amount of the sample is between $45 and $55. What is the probability that in any given week, there will be an investigation?\n",
    "\n",
    "    A.1.25%\n",
    "    \n",
    "    B.2.5%\n",
    "\n",
    "    C.10.55%\n",
    "\n",
    "    D.21.1%\n",
    "    \n",
    "    E.50%\n"
   ]
  },
  {
   "cell_type": "code",
   "execution_count": 13,
   "id": "c88297b4",
   "metadata": {
    "ExecuteTime": {
     "end_time": "2023-03-27T18:33:55.680913Z",
     "start_time": "2023-03-27T18:33:55.662842Z"
    }
   },
   "outputs": [
    {
     "name": "stdout",
     "output_type": "stream",
     "text": [
      "T-score at 45 is : -1.25\n",
      "T-score at 55 is : 1.25\n",
      "Probability of No Investigation is: 0.7887004526662893\n",
      "Probability of Investigation is: 0.2112995473337107\n"
     ]
    }
   ],
   "source": [
    "from scipy import stats\n",
    "import numpy as np\n",
    "# for no investigation --> P(45 < x < 55) \n",
    "# for investigation --> 1 - P(45 < x < 55)\n",
    "# for t statistical value --> t=(x-μ)/(s/√n)\n",
    "t = (45-50)/(40/np.sqrt(100))\n",
    "print(\"T-score at 45 is :\",t)\n",
    "ts = (55-50)/(40/np.sqrt(100))\n",
    "print(\"T-score at 55 is :\",ts)\n",
    "# P(45<x<55)\n",
    "p = stats.norm.cdf(ts)-stats.norm.cdf(t)\n",
    "print(\"Probability of No Investigation is:\",p)\n",
    "# 1- P(45<x<55)\n",
    "print(\"Probability of Investigation is:\",1-p)"
   ]
  },
  {
   "cell_type": "markdown",
   "id": "17f59f2c",
   "metadata": {},
   "source": [
    "##### Question 4\n",
    "    The auditors from the above example would like to maintain the probability of investigation to 5%. Which of the following represents the minimum number transactions that they should sample if they do not want to change the thresholds of 45 and 55? Assume that the sample statistics remain unchanged.\n",
    "\n",
    "    A.144\n",
    "    \n",
    "    B.150\n",
    "    \n",
    "    C.196\n",
    "    \n",
    "    D.250\n",
    "    \n",
    "    E.Not enough information\n"
   ]
  },
  {
   "cell_type": "code",
   "execution_count": 14,
   "id": "217862e2",
   "metadata": {
    "ExecuteTime": {
     "end_time": "2023-03-27T18:33:55.695628Z",
     "start_time": "2023-03-27T18:33:55.680913Z"
    }
   },
   "outputs": [
    {
     "name": "stdout",
     "output_type": "stream",
     "text": [
      "T-value is: 1.96\n",
      "The no. of transactions are: 246\n"
     ]
    }
   ],
   "source": [
    "# Since the probability of investigation comes under significance interval\n",
    "# Confidence Interval is 95% where significance is 5%\n",
    "a = np.round(stats.norm.ppf(0.975),2)\n",
    "print(\"T-value is:\",a)\n",
    "# t = (x-μ)/(s/√n)\n",
    "n = ((a*40)/(55-50))**2\n",
    "print(\"The no. of transactions are:\",round(n))"
   ]
  }
 ],
 "metadata": {
  "kernelspec": {
   "display_name": "Python 3 (ipykernel)",
   "language": "python",
   "name": "python3"
  },
  "language_info": {
   "codemirror_mode": {
    "name": "ipython",
    "version": 3
   },
   "file_extension": ".py",
   "mimetype": "text/x-python",
   "name": "python",
   "nbconvert_exporter": "python",
   "pygments_lexer": "ipython3",
   "version": "3.9.12"
  }
 },
 "nbformat": 4,
 "nbformat_minor": 5
}
